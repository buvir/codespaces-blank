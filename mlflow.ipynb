{
 "cells": [
  {
   "cell_type": "markdown",
   "id": "fecd54f7",
   "metadata": {},
   "source": [
    "## ML FLow Tracking Server"
   ]
  },
  {
   "cell_type": "code",
   "execution_count": null,
   "id": "64d1dde5",
   "metadata": {},
   "outputs": [],
   "source": [
    "import mlflow"
   ]
  },
  {
   "cell_type": "code",
   "execution_count": null,
   "id": "d41ac261",
   "metadata": {},
   "outputs": [
    {
     "data": {
      "text/plain": [
       "123"
      ]
     },
     "execution_count": 1,
     "metadata": {},
     "output_type": "execute_result"
    }
   ],
   "source": [
    "# import mlflow\n",
    "# mlflow.start_run()\n",
    "# mlflow.log_param(\"test\", 123)"
   ]
  },
  {
   "cell_type": "code",
   "execution_count": 2,
   "id": "4a45b686",
   "metadata": {},
   "outputs": [],
   "source": [
    "mlflow.set_tracking_uri(\"http://127.0.0.1:5000\")"
   ]
  },
  {
   "cell_type": "code",
   "execution_count": 5,
   "id": "0b134ddb",
   "metadata": {},
   "outputs": [
    {
     "name": "stdout",
     "output_type": "stream",
     "text": [
      "🏃 View run bouncy-dog-97 at: http://127.0.0.1:5000/#/experiments/161935202418717386/runs/e6c7b89dcd844822b4789adbdbc6dd25\n",
      "🧪 View experiment at: http://127.0.0.1:5000/#/experiments/161935202418717386\n"
     ]
    }
   ],
   "source": [
    "# End any existing run\n",
    "if mlflow.active_run():\n",
    "    mlflow.end_run()\n",
    "\n",
    "mlflow.set_experiment(\"check local host connection\")\n",
    "\n",
    "with mlflow.start_run():\n",
    "    mlflow.log_metric(\"test\",1)\n",
    "    mlflow.log_metric(\"krish\",2)"
   ]
  },
  {
   "cell_type": "code",
   "execution_count": 6,
   "id": "9a03696a",
   "metadata": {},
   "outputs": [
    {
     "name": "stdout",
     "output_type": "stream",
     "text": [
      "🏃 View run resilient-shrimp-917 at: http://127.0.0.1:5000/#/experiments/161935202418717386/runs/7770d3effd6549128eb6766714c32e6c\n",
      "🧪 View experiment at: http://127.0.0.1:5000/#/experiments/161935202418717386\n"
     ]
    }
   ],
   "source": [
    "with mlflow.start_run():\n",
    "    mlflow.log_metric(\"test1\",1)\n",
    "    mlflow.log_metric(\"krish1\",2)"
   ]
  }
 ],
 "metadata": {
  "kernelspec": {
   "display_name": "testenv",
   "language": "python",
   "name": "python3"
  },
  "language_info": {
   "codemirror_mode": {
    "name": "ipython",
    "version": 3
   },
   "file_extension": ".py",
   "mimetype": "text/x-python",
   "name": "python",
   "nbconvert_exporter": "python",
   "pygments_lexer": "ipython3",
   "version": "3.10.16"
  }
 },
 "nbformat": 4,
 "nbformat_minor": 5
}
